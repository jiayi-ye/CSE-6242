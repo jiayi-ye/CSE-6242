{
 "cells": [
  {
   "cell_type": "code",
   "execution_count": 1,
   "metadata": {},
   "outputs": [],
   "source": [
    "import json\n",
    "import csv"
   ]
  },
  {
   "cell_type": "code",
   "execution_count": 2,
   "metadata": {},
   "outputs": [],
   "source": [
    "input_file = 'data/flu_data.txt'\n",
    "output_file = 'data/date.json'"
   ]
  },
  {
   "cell_type": "code",
   "execution_count": 3,
   "metadata": {},
   "outputs": [],
   "source": [
    "dictionary = {}\n",
    "\n",
    "with open(input_file) as fd:\n",
    "    rd = csv.reader(fd, delimiter=\",\")\n",
    "    week_num = 1\n",
    "    prev_year = 2002\n",
    "    for row in rd:\n",
    "        if row[0] == 'Date':\n",
    "            continue\n",
    "        else:\n",
    "            if int(row[0].split('-')[0]) != prev_year:\n",
    "                week_num = 1\n",
    "                prev_year = int(row[0].split('-')[0])\n",
    "                \n",
    "            if prev_year not in dictionary:\n",
    "                dictionary[prev_year] = {}\n",
    "            dictionary[prev_year][week_num] = row[0]\n",
    "            week_num += 1"
   ]
  },
  {
   "cell_type": "code",
   "execution_count": 5,
   "metadata": {},
   "outputs": [
    {
     "data": {
      "text/plain": [
       "'2003-01-26'"
      ]
     },
     "execution_count": 5,
     "metadata": {},
     "output_type": "execute_result"
    }
   ],
   "source": [
    "dictionary[2003][4]"
   ]
  },
  {
   "cell_type": "code",
   "execution_count": null,
   "metadata": {},
   "outputs": [],
   "source": []
  }
 ],
 "metadata": {
  "kernelspec": {
   "display_name": "Python 3",
   "language": "python",
   "name": "python3"
  },
  "language_info": {
   "codemirror_mode": {
    "name": "ipython",
    "version": 3
   },
   "file_extension": ".py",
   "mimetype": "text/x-python",
   "name": "python",
   "nbconvert_exporter": "python",
   "pygments_lexer": "ipython3",
   "version": "3.6.4"
  }
 },
 "nbformat": 4,
 "nbformat_minor": 2
}
